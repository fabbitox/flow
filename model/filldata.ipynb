{
 "cells": [
  {
   "cell_type": "code",
   "execution_count": 3,
   "metadata": {},
   "outputs": [],
   "source": [
    "# 파일 저장 코드\n",
    "import requests\n",
    "import json\n",
    "\n",
    "def download_response(url, filename):\n",
    "    # GET 요청 보내기\n",
    "    response = requests.get(url)\n",
    "\n",
    "    # 응답이 성공인 경우에만 처리\n",
    "    if response.status_code == 200:\n",
    "        # JSON 파싱\n",
    "        json_data = response.json()\n",
    "\n",
    "        # 파일로 저장\n",
    "        with open(filename, \"w\", encoding=\"utf-8\") as json_file:\n",
    "            json.dump(json_data, json_file, ensure_ascii=False, indent=4)\n",
    "    else:\n",
    "        print(f\"Failed to retrieve data. Status code: {response.status_code}\")"
   ]
  },
  {
   "cell_type": "code",
   "execution_count": 1,
   "metadata": {},
   "outputs": [],
   "source": [
    "# 변수 설정\n",
    "obscd1 = '4002605'\n",
    "obscd2 = '4009640'\n",
    "startdt = '20231018'\n",
    "rain_url = f'http://wamis.go.kr:8080/wamis/openapi/wkw/rf_hrdata?obscd=40054040&startdt={startdt}'\n",
    "water1_url = f'http://wamis.go.kr:8080/wamis/openapi/wkw/wl_hrdata?obscd={obscd1}&startdt={startdt}'\n",
    "water2_url = f'http://wamis.go.kr:8080/wamis/openapi/wkw/wl_hrdata?obscd={obscd2}&startdt={startdt}'\n",
    "index = 13 # 리스트의 몇 번째부터 넣을 건지(당연히 0부터 시작, 2면 세 번째임)"
   ]
  },
  {
   "cell_type": "code",
   "execution_count": 4,
   "metadata": {},
   "outputs": [],
   "source": [
    "# 파일 저장하기\n",
    "download_response(water1_url, 'water1.json')\n",
    "download_response(water2_url, 'water2.json')\n",
    "download_response(rain_url, 'rain.json')"
   ]
  },
  {
   "cell_type": "code",
   "execution_count": null,
   "metadata": {},
   "outputs": [],
   "source": [
    "# 값 채우기\n",
    "from test_1017 import final_model\n",
    "import json\n",
    "\n",
    "with open(\"water1.json\", \"r\", encoding=\"utf-8\") as json_file:\n",
    "    water1_json = json.load(json_file)\n",
    "with open(\"water2.json\", \"r\", encoding=\"utf-8\") as json_file:\n",
    "    water2_json = json.load(json_file)\n",
    "with open(\"rain.json\", \"r\", encoding=\"utf-8\") as json_file:\n",
    "    rain_json = json.load(json_file)\n",
    "\n",
    "water1_list = water1_json['list']\n",
    "water2_list = water2_json['list']\n",
    "rain_list = rain_json['list']\n",
    "\n",
    "for i in range(index, len(rain_list)):\n",
    "    final_model([float(water1_list[i]['wl']), float(water2_list[i]['wl']), float(rain_list[i]['rf'])])"
   ]
  }
 ],
 "metadata": {
  "kernelspec": {
   "display_name": "Python 3",
   "language": "python",
   "name": "python3"
  },
  "language_info": {
   "codemirror_mode": {
    "name": "ipython",
    "version": 3
   },
   "file_extension": ".py",
   "mimetype": "text/x-python",
   "name": "python",
   "nbconvert_exporter": "python",
   "pygments_lexer": "ipython3",
   "version": "3.10.11"
  }
 },
 "nbformat": 4,
 "nbformat_minor": 2
}
